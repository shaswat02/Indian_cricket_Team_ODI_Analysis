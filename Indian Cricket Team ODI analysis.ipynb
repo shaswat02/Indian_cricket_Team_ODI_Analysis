{
 "cells": [
  {
   "cell_type": "markdown",
   "metadata": {},
   "source": [
    "# Indian Cricket Team ODI analysis"
   ]
  },
  {
   "cell_type": "markdown",
   "metadata": {},
   "source": [
    "This is the implementation of the \"INCREASED PREDICTION ACCURACY IN THE GAME OF CRICKET USING MACHINE LEARNING\" research paper. The main agenda of the paper is to take the career Data of each player and predict the number of wickets they will take or the number of runs they will make, given the circumstances of the next matches.\n",
    "\n",
    "The Paper uses the data of all the players in cricet from 2005 to 2017. As i dont have the recources to store that much data. I have taken the data of the 27 current Indian players from the start of their career till 2020. The most senior player we have is Mahendra Singh Dhoni whose data is from 2002-2020.\n",
    "\n",
    "The Players are Divided into 3 Categories-\n",
    "1. Batsmen\n",
    "2. Bowlers\n",
    "3. All Rounders"
   ]
  },
  {
   "cell_type": "code",
   "execution_count": 49,
   "metadata": {},
   "outputs": [],
   "source": [
    "import re\n",
    "import numpy as np\n",
    "import pandas as pd\n",
    "from bs4 import BeautifulSoup\n",
    "import requests\n",
    "import itertools\n",
    "import numpy as np\n",
    "import matplotlib.pyplot as plt\n",
    "from matplotlib.ticker import NullFormatter\n",
    "import statistics \n",
    "import matplotlib.ticker as ticker\n",
    "from sklearn import preprocessing\n",
    "from sklearn.model_selection import train_test_split\n",
    "from sklearn.neighbors import KNeighborsClassifier\n",
    "from sklearn import metrics \n",
    "from sklearn.utils import shuffle\n",
    "%matplotlib inline\n",
    "from sklearn.metrics import classification_report\n",
    "from sklearn.metrics import roc_auc_score\n",
    "from sklearn.model_selection import GridSearchCV\n",
    "import warnings\n",
    "import os\n",
    "warnings.filterwarnings('ignore')\n"
   ]
  },
  {
   "cell_type": "code",
   "execution_count": 2,
   "metadata": {},
   "outputs": [
    {
     "data": {
      "text/html": [
       "<div>\n",
       "<style scoped>\n",
       "    .dataframe tbody tr th:only-of-type {\n",
       "        vertical-align: middle;\n",
       "    }\n",
       "\n",
       "    .dataframe tbody tr th {\n",
       "        vertical-align: top;\n",
       "    }\n",
       "\n",
       "    .dataframe thead th {\n",
       "        text-align: right;\n",
       "    }\n",
       "</style>\n",
       "<table border=\"1\" class=\"dataframe\">\n",
       "  <thead>\n",
       "    <tr style=\"text-align: right;\">\n",
       "      <th></th>\n",
       "      <th>Name</th>\n",
       "      <th>playing_span</th>\n",
       "      <th>matches_played</th>\n",
       "      <th>innings_batted</th>\n",
       "      <th>not_outs</th>\n",
       "      <th>runs_scored</th>\n",
       "      <th>highest_innings_score</th>\n",
       "      <th>batting_average</th>\n",
       "      <th>balls_faced</th>\n",
       "      <th>batting_strike_rate</th>\n",
       "      <th>hundreds_scored</th>\n",
       "      <th>fifties</th>\n",
       "      <th>ducks</th>\n",
       "      <th>fours</th>\n",
       "      <th>sixes</th>\n",
       "    </tr>\n",
       "  </thead>\n",
       "  <tbody>\n",
       "  </tbody>\n",
       "</table>\n",
       "</div>"
      ],
      "text/plain": [
       "Empty DataFrame\n",
       "Columns: [Name, playing_span, matches_played, innings_batted, not_outs, runs_scored, highest_innings_score, batting_average, balls_faced, batting_strike_rate, hundreds_scored, fifties, ducks, fours, sixes]\n",
       "Index: []"
      ]
     },
     "execution_count": 2,
     "metadata": {},
     "output_type": "execute_result"
    }
   ],
   "source": [
    "# Overall Stats for all batsmen\n",
    "column_name = ['Name','playing_span', 'matches_played', 'innings_batted', 'not_outs','runs_scored','highest_innings_score',\n",
    "               'batting_average','balls_faced','batting_strike_rate','hundreds_scored', 'fifties','ducks','fours','sixes']\n",
    "df_overall_bat = pd.DataFrame(columns=column_name)\n",
    "df_overall_bat"
   ]
  },
  {
   "cell_type": "code",
   "execution_count": 3,
   "metadata": {},
   "outputs": [
    {
     "data": {
      "text/html": [
       "<div>\n",
       "<style scoped>\n",
       "    .dataframe tbody tr th:only-of-type {\n",
       "        vertical-align: middle;\n",
       "    }\n",
       "\n",
       "    .dataframe tbody tr th {\n",
       "        vertical-align: top;\n",
       "    }\n",
       "\n",
       "    .dataframe thead th {\n",
       "        text-align: right;\n",
       "    }\n",
       "</style>\n",
       "<table border=\"1\" class=\"dataframe\">\n",
       "  <thead>\n",
       "    <tr style=\"text-align: right;\">\n",
       "      <th></th>\n",
       "      <th>Runs</th>\n",
       "      <th>Mins</th>\n",
       "      <th>BF</th>\n",
       "      <th>4s</th>\n",
       "      <th>6s</th>\n",
       "      <th>SR</th>\n",
       "      <th>Pos</th>\n",
       "      <th>Dismissal</th>\n",
       "      <th>Inns</th>\n",
       "      <th>Opposition</th>\n",
       "      <th>Ground</th>\n",
       "    </tr>\n",
       "  </thead>\n",
       "  <tbody>\n",
       "  </tbody>\n",
       "</table>\n",
       "</div>"
      ],
      "text/plain": [
       "Empty DataFrame\n",
       "Columns: [Runs, Mins, BF, 4s, 6s, SR, Pos, Dismissal, Inns, Opposition, Ground]\n",
       "Index: []"
      ]
     },
     "execution_count": 3,
     "metadata": {},
     "output_type": "execute_result"
    }
   ],
   "source": [
    "# Innings by innings stats for each batsmen\n",
    "column_name =['Runs','Mins','BF','4s','6s','SR','Pos','Dismissal','Inns','Opposition','Ground']\n",
    "df_personal_bat= pd.DataFrame(columns=column_name)\n",
    "df_personal_bat"
   ]
  },
  {
   "cell_type": "code",
   "execution_count": 4,
   "metadata": {},
   "outputs": [
    {
     "data": {
      "text/html": [
       "<div>\n",
       "<style scoped>\n",
       "    .dataframe tbody tr th:only-of-type {\n",
       "        vertical-align: middle;\n",
       "    }\n",
       "\n",
       "    .dataframe tbody tr th {\n",
       "        vertical-align: top;\n",
       "    }\n",
       "\n",
       "    .dataframe thead th {\n",
       "        text-align: right;\n",
       "    }\n",
       "</style>\n",
       "<table border=\"1\" class=\"dataframe\">\n",
       "  <thead>\n",
       "    <tr style=\"text-align: right;\">\n",
       "      <th></th>\n",
       "      <th>Overs</th>\n",
       "      <th>Mdns</th>\n",
       "      <th>Runs</th>\n",
       "      <th>Wkts</th>\n",
       "      <th>Econ</th>\n",
       "      <th>Pos</th>\n",
       "      <th>Inns</th>\n",
       "      <th>Opposition</th>\n",
       "      <th>Ground</th>\n",
       "    </tr>\n",
       "  </thead>\n",
       "  <tbody>\n",
       "  </tbody>\n",
       "</table>\n",
       "</div>"
      ],
      "text/plain": [
       "Empty DataFrame\n",
       "Columns: [Overs, Mdns, Runs, Wkts, Econ, Pos, Inns, Opposition, Ground]\n",
       "Index: []"
      ]
     },
     "execution_count": 4,
     "metadata": {},
     "output_type": "execute_result"
    }
   ],
   "source": [
    "# Overall Bowling stats for all Bowlers \n",
    "column_name=['Overs','Mdns','Runs','Wkts','Econ','Pos','Inns','Opposition','Ground']\n",
    "df_personal_ball= pd.DataFrame(columns=column_name)\n",
    "df_personal_ball"
   ]
  },
  {
   "cell_type": "code",
   "execution_count": 5,
   "metadata": {},
   "outputs": [
    {
     "data": {
      "text/html": [
       "<div>\n",
       "<style scoped>\n",
       "    .dataframe tbody tr th:only-of-type {\n",
       "        vertical-align: middle;\n",
       "    }\n",
       "\n",
       "    .dataframe tbody tr th {\n",
       "        vertical-align: top;\n",
       "    }\n",
       "\n",
       "    .dataframe thead th {\n",
       "        text-align: right;\n",
       "    }\n",
       "</style>\n",
       "<table border=\"1\" class=\"dataframe\">\n",
       "  <thead>\n",
       "    <tr style=\"text-align: right;\">\n",
       "      <th></th>\n",
       "      <th>Name</th>\n",
       "      <th>Span</th>\n",
       "      <th>Mat</th>\n",
       "      <th>Inns</th>\n",
       "      <th>Overs</th>\n",
       "      <th>Mdns</th>\n",
       "      <th>Runs</th>\n",
       "      <th>Wkts</th>\n",
       "      <th>best_bowling_in_innings</th>\n",
       "      <th>Ave</th>\n",
       "      <th>Econ</th>\n",
       "      <th>SR</th>\n",
       "      <th>4s</th>\n",
       "      <th>5s</th>\n",
       "    </tr>\n",
       "  </thead>\n",
       "  <tbody>\n",
       "  </tbody>\n",
       "</table>\n",
       "</div>"
      ],
      "text/plain": [
       "Empty DataFrame\n",
       "Columns: [Name, Span, Mat, Inns, Overs, Mdns, Runs, Wkts, best_bowling_in_innings, Ave, Econ, SR, 4s, 5s]\n",
       "Index: []"
      ]
     },
     "execution_count": 5,
     "metadata": {},
     "output_type": "execute_result"
    }
   ],
   "source": [
    "# Inning by Inning Stats By each Bowler\n",
    "column_name=['Name','Span','Mat','Inns','Overs','Mdns','Runs','Wkts','best_bowling_in_innings','Ave','Econ','SR','4s','5s']\n",
    "df_overall_ball= pd.DataFrame(columns=column_name)\n",
    "df_overall_ball"
   ]
  },
  {
   "cell_type": "markdown",
   "metadata": {},
   "source": [
    "## Function for Extracting the overall and the Inning by Inning stats of each player."
   ]
  },
  {
   "cell_type": "markdown",
   "metadata": {},
   "source": [
    "This function takes URL and two dataframes one of the overall stats and the other of the innings by innings stats of each of the batsman and the bowler.\n",
    "\n",
    "The function outputs 1 CSV of the players inning by inning stats and 1 dataframe of the players and their overall stats."
   ]
  },
  {
   "cell_type": "code",
   "execution_count": 6,
   "metadata": {},
   "outputs": [],
   "source": [
    "def extract_data(Name,url1,url2, df1, df2,x):\n",
    "    user_agent = {\"User-Agent\": \"Mozilla/5.0 \"\n",
    "                            \"(Windows NT 10.0; Win64; x64) \"\n",
    "                            \"AppleWebKit/537.36 (KHTML, like Gecko) \"\n",
    "                            \"Chrome/80.0.3987.163 Safari/537.36\"}\n",
    "    if (x==0):# If the player is a Batsman\n",
    "        source = requests.get(url1, headers = user_agent).text\n",
    "        soup = BeautifulSoup(source,\"lxml\")\n",
    "\n",
    "        items = soup.find(\"div\", id=\"ciMainContainer\")\n",
    "        Bat_Overall= items.find_all(\"table\",{\"class\":\"engineTable\"})[2]\n",
    "        Bat_personal= items.find_all(\"table\",{\"class\":\"engineTable\"})[3]\n",
    "        rows= Bat_Overall.find_all(\"td\")\n",
    "        df1= df1.append({'Name':Name,'playing_span':rows[1].text, 'matches_played':rows[2].text, 'innings_batted':rows[3].text, 'not_outs':rows[4].text,\n",
    "                        'runs_scored':rows[5].text,'highest_innings_score':rows[6].text, 'batting_average':rows[7].text,'balls_faced':rows[8].text,\n",
    "                        'batting_strike_rate':rows[9].text,'hundreds_scored':rows[10].text, 'fifties':rows[11].text,'ducks':rows[12].text,'fours':rows[13].text,\n",
    "                        'sixes':rows[14].text}, ignore_index= True)\n",
    "        row= Bat_personal.find_all(\"td\")\n",
    "        for a in range(0, len(row)-1, 14):\n",
    "            df2= df2.append({'Runs':row[a].text,'Mins':row[a+1].text,'BF':row[a+2].text,'4s':row[a+3].text,'6s':row[a+4].text,'SR':row[a+5].text,\n",
    "                             'Pos':row[a+6].text,'Dismissal':row[a+7].text,'Inns':row[a+8].text,'Opposition':row[a+10].text,'Ground':row[a+11].text},ignore_index=True)\n",
    "        df2.to_csv(Name+'.csv')\n",
    "        return df1,x\n",
    "    \n",
    "    if(x==1): #If the Player is a Bowler\n",
    "        source = requests.get(url2, headers = user_agent).text\n",
    "        soup = BeautifulSoup(source,\"lxml\")\n",
    "\n",
    "        items = soup.find(\"div\", id=\"ciMainContainer\")\n",
    "        Ball_Overall= items.find_all(\"table\",{\"class\":\"engineTable\"})[2]\n",
    "        Ball_personal= items.find_all(\"table\",{\"class\":\"engineTable\"})[3]\n",
    "        rows= Ball_personal.find_all(\"td\")\n",
    "        for i in range(0, len(rows)-1, 12):\n",
    "            df2= df2.append({'Overs':rows[i].text,'Mdns':rows[i+1].text,'Runs':rows[i+2].text,'Wkts':rows[i+3].text,'Econ':rows[i+4].text,\n",
    "                             'Pos':rows[i+5].text,'Inns':rows[i+6].text,'Opposition':rows[i+8].text,'Ground':rows[i+9].text},ignore_index=True)\n",
    "        row= Ball_Overall.find_all(\"td\")\n",
    "        df1= df1.append({'Name':Name,'Span':row[1].text,'Mat':row[2].text,'Inns':row[3].text,'Overs':row[4].text,'Mdns':row[5].text,'Runs':row[6].text,'Wkts':row[7].text,\n",
    "                         'best_bowling_in_innings':row[8].text,'Ave':row[9].text,'Econ':row[10].text,'SR':row[11].text,'4s':row[12].text,'5s':row[13].text}, ignore_index= True)\n",
    "        \n",
    "        df2.to_csv(Name+'.csv')\n",
    "        return df1,x\n",
    "    \n",
    "    "
   ]
  },
  {
   "cell_type": "markdown",
   "metadata": {},
   "source": [
    "#### The Bowling areas of the Batsmen and the Batting areas of the bowlers is not taken into account. This is so because the dataset would largely be filled with null values. The all rounders are passed through the functions twice because their both batting and the bowling data is taken into account. "
   ]
  },
  {
   "cell_type": "code",
   "execution_count": 9,
   "metadata": {},
   "outputs": [
    {
     "name": "stdout",
     "output_type": "stream",
     "text": [
      "Virat Kohli  Done.\n",
      "Rohit Sharma  Done.\n",
      "Ajinkya Rahane  Done.\n",
      "Mayank Agarwal  Done.\n",
      "Prithvi Shaw  Done.\n",
      "Shikhar Dhawan  Done.\n",
      "KL Rahul  Done.\n",
      "Shreyas Iyer  Done.\n",
      "Manish Pandey  Done.\n",
      "Cheteshwar Pujara  Done.\n",
      "MS Dhoni  Done.\n",
      "Dinesh Karthik  Done.\n",
      "Rishabh Pant  Done.\n",
      "Deepak Chahar  Done.\n",
      "Bhuvaneshwar Kumar  Done.\n",
      "Shradul Thakur  Done.\n",
      "Navdeep Saini  Done.\n",
      "Mohammed Shami  Done.\n",
      "Ishant Sharma  Done.\n",
      "Umesh Yadav  Done.\n",
      "Yuzvendra Chahal  Done.\n",
      "Kuldeep Yadav  Done.\n",
      "Jasprit Bumrah  Done.\n",
      "R. Ashwin bat  Done.\n",
      "R. Ashwin bowl  Done.\n",
      "Ravindra Jadeja bat  Done.\n",
      "Ravindra Jadeja baowl  Done.\n",
      "Kedar Jadhav bat  Done.\n",
      "Kedar Jadhav bowl  Done.\n",
      "Hardik Pandya bat  Done.\n",
      "Hardik Pandya bowl  Done.\n"
     ]
    }
   ],
   "source": [
    "all_players=[[\"Virat Kohli\",\"https://stats.espncricinfo.com/ci/engine/player/253802.html?class=2;template=results;type=batting;view=innings\", \"\",0,df_overall_bat,df_personal_bat],\n",
    "            [\"Rohit Sharma\",\"https://stats.espncricinfo.com/ci/engine/player/34102.html?class=2;template=results;type=batting;view=innings\", \"\",0,df_overall_bat,df_personal_bat],\n",
    "            [\"Ajinkya Rahane\",\"https://stats.espncricinfo.com/ci/engine/player/277916.html?class=2;template=results;type=batting;view=innings\", \"\",0,df_overall_bat,df_personal_bat],\n",
    "            ['Mayank Agarwal','https://stats.espncricinfo.com/ci/engine/player/398438.html?class=2;template=results;type=batting;view=innings', \"\",0,df_overall_bat,df_personal_bat],\n",
    "            ['Prithvi Shaw','https://stats.espncricinfo.com/ci/engine/player/398438.html?class=2;template=results;type=batting;view=innings', \"\",0,df_overall_bat,df_personal_bat],\n",
    "            ['Shikhar Dhawan','https://stats.espncricinfo.com/ci/engine/player/28235.html?class=2;template=results;type=batting;view=innings', \"\",0,df_overall_bat,df_personal_bat],\n",
    "            ['KL Rahul', 'https://stats.espncricinfo.com/ci/engine/player/422108.html?class=2;template=results;type=batting;view=innings', \"\",0,df_overall_bat,df_personal_bat],\n",
    "            ['Shreyas Iyer','https://stats.espncricinfo.com/ci/engine/player/642519.html?class=3;template=results;type=batting;view=innings', \"\",0,df_overall_bat,df_personal_bat],\n",
    "            ['Manish Pandey','https://stats.espncricinfo.com/ci/engine/player/290630.html?class=3;template=results;type=batting;view=innings', \"\",0,df_overall_bat,df_personal_bat],\n",
    "            ['Cheteshwar Pujara','https://stats.espncricinfo.com/ci/engine/player/32540.html?class=2;template=results;type=batting;view=innings', \"\",0,df_overall_bat,df_personal_bat],\n",
    "            ['MS Dhoni','https://stats.espncricinfo.com/ci/engine/player/28081.html?class=2;template=results;type=batting;view=innings', \"\",0,df_overall_bat,df_personal_bat],\n",
    "            ['Dinesh Karthik','https://stats.espncricinfo.com/ci/engine/player/30045.html?class=2;template=results;type=batting;view=innings', \"\",0,df_overall_bat,df_personal_bat],\n",
    "            ['Rishabh Pant','https://stats.espncricinfo.com/ci/engine/player/931581.html?class=2;template=results;type=batting;view=innings', \"\",0,df_overall_bat,df_personal_bat],\n",
    "            ['Deepak Chahar','','https://stats.espncricinfo.com/ci/engine/player/447261.html?class=2;template=results;type=bowling;view=innings',1,df_overall_ball,df_personal_ball],\n",
    "            ['Bhuvaneshwar Kumar',\"\",'https://stats.espncricinfo.com/ci/engine/player/326016.html?class=2;template=results;type=bowling;view=innings',1,df_overall_ball,df_personal_ball],\n",
    "            ['Shradul Thakur','','https://stats.espncricinfo.com/ci/engine/player/475281.html?class=2;template=results;type=bowling;view=innings',1,df_overall_ball,df_personal_ball],\n",
    "            ['Navdeep Saini','','https://stats.espncricinfo.com/ci/engine/player/700167.html?class=2;template=results;type=bowling;view=innings',1,df_overall_ball,df_personal_ball],\n",
    "            ['Mohammed Shami','','https://stats.espncricinfo.com/ci/engine/player/481896.html?class=2;template=results;type=bowling;view=innings',1,df_overall_ball,df_personal_ball],\n",
    "            ['Ishant Sharma','','https://stats.espncricinfo.com/ci/engine/player/236779.html?class=2;template=results;type=bowling;view=innings',1,df_overall_ball,df_personal_ball],\n",
    "            ['Umesh Yadav','','https://stats.espncricinfo.com/ci/engine/player/376116.html?class=2;template=results;type=bowling;view=innings',1,df_overall_ball,df_personal_ball],\n",
    "            ['Yuzvendra Chahal','','https://stats.espncricinfo.com/ci/engine/player/430246.html?class=2;template=results;type=bowling;view=innings',1,df_overall_ball,df_personal_ball],\n",
    "            ['Kuldeep Yadav','','https://stats.espncricinfo.com/ci/engine/player/559235.html?class=2;template=results;type=bowling;view=innings',1,df_overall_ball,df_personal_ball],\n",
    "            ['Jasprit Bumrah','','https://stats.espncricinfo.com/ci/engine/player/625383.html?class=2;template=results;type=bowling;view=innings',1,df_overall_ball,df_personal_ball],\n",
    "            ['R. Ashwin bat','https://stats.espncricinfo.com/ci/engine/player/26421.html?class=2;template=results;type=batting;view=innings',\"\",0,df_overall_bat,df_personal_bat],\n",
    "            ['R. Ashwin bowl','','https://stats.espncricinfo.com/ci/engine/player/26421.html?class=2;template=results;type=bowling;view=innings',1,df_overall_ball,df_personal_ball],\n",
    "            ['Ravindra Jadeja bat','https://stats.espncricinfo.com/ci/engine/player/234675.html?class=2;template=results;type=batting;view=innings',\"\",0,df_overall_bat,df_personal_bat],\n",
    "            ['Ravindra Jadeja baowl','','https://stats.espncricinfo.com/ci/engine/player/234675.html?class=2;template=results;type=bowling;view=innings',1,df_overall_ball,df_personal_ball],\n",
    "            ['Kedar Jadhav bat','https://stats.espncricinfo.com/ci/engine/player/290716.html?class=2;template=results;type=batting;view=innings',\"\",0,df_overall_bat,df_personal_bat],\n",
    "            ['Kedar Jadhav bowl','','https://stats.espncricinfo.com/ci/engine/player/290716.html?class=2;template=results;type=bowling;view=innings',1,df_overall_ball,df_personal_ball],\n",
    "            ['Hardik Pandya bat','https://stats.espncricinfo.com/ci/engine/player/625371.html?class=2;template=results;type=batting;view=innings',\"\",0,df_overall_bat,df_personal_bat],\n",
    "            ['Hardik Pandya bowl','','https://stats.espncricinfo.com/ci/engine/player/625371.html?class=2;template=results;type=bowling;view=innings',1,df_overall_ball,df_personal_ball],\n",
    "            ]\n",
    "\n",
    "\n",
    "for a in all_players:\n",
    "    Name=a[0]\n",
    "    url1=a[1]\n",
    "    url2=a[2]\n",
    "    x=a[3]\n",
    "    df1=a[4]\n",
    "    df2=a[5]\n",
    "    print(Name,\" Done.\")\n",
    "    returned_df,x= extract_data(Name,url1,url2, df1, df2,x)\n",
    "    if (x==0):\n",
    "        concat_elements=[df_overall_bat,returned_df]\n",
    "        df_overall_bat=pd.concat(concat_elements, axis=0)\n",
    "    if (x==1):\n",
    "        concat_elements=[df_overall_ball,returned_df]\n",
    "        df_overall_ball=pd.concat(concat_elements, axis=0)\n"
   ]
  },
  {
   "cell_type": "code",
   "execution_count": 14,
   "metadata": {},
   "outputs": [
    {
     "data": {
      "text/html": [
       "<div>\n",
       "<style scoped>\n",
       "    .dataframe tbody tr th:only-of-type {\n",
       "        vertical-align: middle;\n",
       "    }\n",
       "\n",
       "    .dataframe tbody tr th {\n",
       "        vertical-align: top;\n",
       "    }\n",
       "\n",
       "    .dataframe thead th {\n",
       "        text-align: right;\n",
       "    }\n",
       "</style>\n",
       "<table border=\"1\" class=\"dataframe\">\n",
       "  <thead>\n",
       "    <tr style=\"text-align: right;\">\n",
       "      <th></th>\n",
       "      <th>Name</th>\n",
       "      <th>playing_span</th>\n",
       "      <th>matches_played</th>\n",
       "      <th>innings_batted</th>\n",
       "      <th>not_outs</th>\n",
       "      <th>runs_scored</th>\n",
       "      <th>highest_innings_score</th>\n",
       "      <th>batting_average</th>\n",
       "      <th>balls_faced</th>\n",
       "      <th>batting_strike_rate</th>\n",
       "      <th>hundreds_scored</th>\n",
       "      <th>fifties</th>\n",
       "      <th>ducks</th>\n",
       "      <th>fours</th>\n",
       "      <th>sixes</th>\n",
       "    </tr>\n",
       "  </thead>\n",
       "  <tbody>\n",
       "    <tr>\n",
       "      <th>0</th>\n",
       "      <td>Virat Kohli</td>\n",
       "      <td>2008-2020</td>\n",
       "      <td>248</td>\n",
       "      <td>239</td>\n",
       "      <td>39</td>\n",
       "      <td>11867</td>\n",
       "      <td>183</td>\n",
       "      <td>59.33</td>\n",
       "      <td>12726</td>\n",
       "      <td>93.25</td>\n",
       "      <td>43</td>\n",
       "      <td>58</td>\n",
       "      <td>13</td>\n",
       "      <td>1116</td>\n",
       "      <td>121</td>\n",
       "    </tr>\n",
       "    <tr>\n",
       "      <th>0</th>\n",
       "      <td>Rohit Sharma</td>\n",
       "      <td>2007-2020</td>\n",
       "      <td>224</td>\n",
       "      <td>217</td>\n",
       "      <td>32</td>\n",
       "      <td>9115</td>\n",
       "      <td>264</td>\n",
       "      <td>49.27</td>\n",
       "      <td>10250</td>\n",
       "      <td>88.92</td>\n",
       "      <td>29</td>\n",
       "      <td>43</td>\n",
       "      <td>13</td>\n",
       "      <td>817</td>\n",
       "      <td>244</td>\n",
       "    </tr>\n",
       "    <tr>\n",
       "      <th>0</th>\n",
       "      <td>Ajinkya Rahane</td>\n",
       "      <td>2011-2018</td>\n",
       "      <td>90</td>\n",
       "      <td>87</td>\n",
       "      <td>3</td>\n",
       "      <td>2962</td>\n",
       "      <td>111</td>\n",
       "      <td>35.26</td>\n",
       "      <td>3767</td>\n",
       "      <td>78.63</td>\n",
       "      <td>3</td>\n",
       "      <td>24</td>\n",
       "      <td>6</td>\n",
       "      <td>293</td>\n",
       "      <td>33</td>\n",
       "    </tr>\n",
       "  </tbody>\n",
       "</table>\n",
       "</div>"
      ],
      "text/plain": [
       "             Name playing_span matches_played innings_batted not_outs  \\\n",
       "0     Virat Kohli    2008-2020            248            239       39   \n",
       "0    Rohit Sharma    2007-2020            224            217       32   \n",
       "0  Ajinkya Rahane    2011-2018             90             87        3   \n",
       "\n",
       "  runs_scored highest_innings_score batting_average balls_faced  \\\n",
       "0       11867                   183           59.33       12726   \n",
       "0        9115                   264           49.27       10250   \n",
       "0        2962                   111           35.26        3767   \n",
       "\n",
       "  batting_strike_rate hundreds_scored fifties ducks fours sixes  \n",
       "0               93.25              43      58    13  1116   121  \n",
       "0               88.92              29      43    13   817   244  \n",
       "0               78.63               3      24     6   293    33  "
      ]
     },
     "execution_count": 14,
     "metadata": {},
     "output_type": "execute_result"
    }
   ],
   "source": [
    "df_overall_bat.head(3)"
   ]
  },
  {
   "cell_type": "code",
   "execution_count": 15,
   "metadata": {},
   "outputs": [
    {
     "data": {
      "text/html": [
       "<div>\n",
       "<style scoped>\n",
       "    .dataframe tbody tr th:only-of-type {\n",
       "        vertical-align: middle;\n",
       "    }\n",
       "\n",
       "    .dataframe tbody tr th {\n",
       "        vertical-align: top;\n",
       "    }\n",
       "\n",
       "    .dataframe thead th {\n",
       "        text-align: right;\n",
       "    }\n",
       "</style>\n",
       "<table border=\"1\" class=\"dataframe\">\n",
       "  <thead>\n",
       "    <tr style=\"text-align: right;\">\n",
       "      <th></th>\n",
       "      <th>Name</th>\n",
       "      <th>Span</th>\n",
       "      <th>Mat</th>\n",
       "      <th>Inns</th>\n",
       "      <th>Overs</th>\n",
       "      <th>Mdns</th>\n",
       "      <th>Runs</th>\n",
       "      <th>Wkts</th>\n",
       "      <th>best_bowling_in_innings</th>\n",
       "      <th>Ave</th>\n",
       "      <th>Econ</th>\n",
       "      <th>SR</th>\n",
       "      <th>4s</th>\n",
       "      <th>5s</th>\n",
       "    </tr>\n",
       "  </thead>\n",
       "  <tbody>\n",
       "    <tr>\n",
       "      <th>0</th>\n",
       "      <td>Jasprit Bumrah</td>\n",
       "      <td>2016-2020</td>\n",
       "      <td>64</td>\n",
       "      <td>64</td>\n",
       "      <td>557.4</td>\n",
       "      <td>38</td>\n",
       "      <td>2541</td>\n",
       "      <td>104</td>\n",
       "      <td>5/27</td>\n",
       "      <td>24.43</td>\n",
       "      <td>4.55</td>\n",
       "      <td>32.1</td>\n",
       "      <td>5</td>\n",
       "      <td>1</td>\n",
       "    </tr>\n",
       "    <tr>\n",
       "      <th>0</th>\n",
       "      <td>R. Ashwin bowl</td>\n",
       "      <td>2010-2017</td>\n",
       "      <td>111</td>\n",
       "      <td>109</td>\n",
       "      <td>1003.3</td>\n",
       "      <td>35</td>\n",
       "      <td>4937</td>\n",
       "      <td>150</td>\n",
       "      <td>4/25</td>\n",
       "      <td>32.91</td>\n",
       "      <td>4.91</td>\n",
       "      <td>40.1</td>\n",
       "      <td>1</td>\n",
       "      <td>0</td>\n",
       "    </tr>\n",
       "    <tr>\n",
       "      <th>0</th>\n",
       "      <td>Ravindra Jadeja baowl</td>\n",
       "      <td>2009-2020</td>\n",
       "      <td>165</td>\n",
       "      <td>161</td>\n",
       "      <td>1396.1</td>\n",
       "      <td>50</td>\n",
       "      <td>6839</td>\n",
       "      <td>187</td>\n",
       "      <td>5/36</td>\n",
       "      <td>36.57</td>\n",
       "      <td>4.89</td>\n",
       "      <td>44.7</td>\n",
       "      <td>7</td>\n",
       "      <td>1</td>\n",
       "    </tr>\n",
       "    <tr>\n",
       "      <th>0</th>\n",
       "      <td>Kedar Jadhav bowl</td>\n",
       "      <td>2014-2020</td>\n",
       "      <td>73</td>\n",
       "      <td>42</td>\n",
       "      <td>197.5</td>\n",
       "      <td>1</td>\n",
       "      <td>1020</td>\n",
       "      <td>27</td>\n",
       "      <td>3/23</td>\n",
       "      <td>37.77</td>\n",
       "      <td>5.15</td>\n",
       "      <td>43.9</td>\n",
       "      <td>0</td>\n",
       "      <td>0</td>\n",
       "    </tr>\n",
       "    <tr>\n",
       "      <th>0</th>\n",
       "      <td>Hardik Pandya bowl</td>\n",
       "      <td>2016-2019</td>\n",
       "      <td>54</td>\n",
       "      <td>53</td>\n",
       "      <td>394.4</td>\n",
       "      <td>5</td>\n",
       "      <td>2195</td>\n",
       "      <td>54</td>\n",
       "      <td>3/31</td>\n",
       "      <td>40.64</td>\n",
       "      <td>5.56</td>\n",
       "      <td>43.8</td>\n",
       "      <td>0</td>\n",
       "      <td>0</td>\n",
       "    </tr>\n",
       "  </tbody>\n",
       "</table>\n",
       "</div>"
      ],
      "text/plain": [
       "                    Name       Span  Mat Inns   Overs Mdns  Runs Wkts  \\\n",
       "0         Jasprit Bumrah  2016-2020   64   64   557.4   38  2541  104   \n",
       "0         R. Ashwin bowl  2010-2017  111  109  1003.3   35  4937  150   \n",
       "0  Ravindra Jadeja baowl  2009-2020  165  161  1396.1   50  6839  187   \n",
       "0      Kedar Jadhav bowl  2014-2020   73   42   197.5    1  1020   27   \n",
       "0     Hardik Pandya bowl  2016-2019   54   53   394.4    5  2195   54   \n",
       "\n",
       "  best_bowling_in_innings    Ave  Econ    SR 4s 5s  \n",
       "0                    5/27  24.43  4.55  32.1  5  1  \n",
       "0                    4/25  32.91  4.91  40.1  1  0  \n",
       "0                    5/36  36.57  4.89  44.7  7  1  \n",
       "0                    3/23  37.77  5.15  43.9  0  0  \n",
       "0                    3/31  40.64  5.56  43.8  0  0  "
      ]
     },
     "execution_count": 15,
     "metadata": {},
     "output_type": "execute_result"
    }
   ],
   "source": [
    "df_overall_ball.tail()"
   ]
  },
  {
   "cell_type": "markdown",
   "metadata": {},
   "source": [
    "# Data Cleaning & Adding Traditional Attributes"
   ]
  },
  {
   "cell_type": "markdown",
   "metadata": {},
   "source": [
    "First we analyse 1 CSV of a Batsmen and 1 CSV of a bowler so that we can create a general function we can apply to each one of them. \n",
    "\n",
    "As the prime variable that we are predicting is the number of Runs in case of the batsmen and the number of wickets in the case of the Bowlers we have to Remove the cases in which they did not Bowl or did not get to bat."
   ]
  },
  {
   "cell_type": "markdown",
   "metadata": {},
   "source": [
    "For Batsmen-\n",
    "\n",
    "No. of Innings: The number of innings in which the batsman has batted till the day of the match.\n",
    "This attribute signifies the experience of the batsman. The more innings the batsman has played,\n",
    "the more experienced the player is.\n",
    "\n",
    "Strike Rate (SR): Strike rate is the average number of runs scored per 100 balls faced. In limited\n",
    "overs cricket, it is important to score runs at a fast pace. More runs scored at a slow pace is rather\n",
    "harmful to the team as they have a limited number of overs. This attribute indicates how quickly\n",
    "the batsman can score runs\n",
    "\n",
    "Centuries: Number of innings in which the batsman scored more than 100 runs. This attribute\n",
    "indicates the capability of the player to play longer innings and score more runs.\n",
    "Fifties: Number of innings in which the batsman scored more than 50 (and less than 100)\n",
    "runs.This attribute indicates the capability of the player to play longer innings and score more runs.\n",
    "\n",
    "Zeros: Number of innings in which the batsman was dismissed without scoring a single run. This\n",
    "attribute shows how many times the batsman failed to score runs, hence this being a negative\n",
    "factor, was impacts the batsman’s prediction negatively."
   ]
  },
  {
   "cell_type": "code",
   "execution_count": null,
   "metadata": {},
   "outputs": [],
   "source": []
  },
  {
   "cell_type": "code",
   "execution_count": 139,
   "metadata": {
    "scrolled": true
   },
   "outputs": [],
   "source": [
    "# Cleaning Algorithm.\n",
    "def clean_batsmen(df1, x):\n",
    "    df1.drop(columns=['Unnamed: 0'], axis=1, inplace=True)\n",
    "    for a in df1.index:\n",
    "        if(df1['Dismissal'][a]=='run out' or df1['Dismissal'][a]=='caught' or df1['Dismissal'][a]=='lbw' or df1['Dismissal'][a]=='bowled' or df1['Dismissal'][a]=='stumped' or \n",
    "           df1['Dismissal'][a]=='hit wicket'):\n",
    "            df1['Dismissal'][a]=1\n",
    "        if(df1['Dismissal'][a]=='not out' or df1['Dismissal'][a]=='retired notout'):\n",
    "            df1['Dismissal'][a]=0\n",
    "        if(df1['Runs'][a]=='DNB' or df1['Runs'][a]=='TDNB'):\n",
    "            df1.drop(index=a, inplace=True)\n",
    "    opp=['v Bangladesh', 'v Pakistan', 'v Sri Lanka', 'v West Indies',\n",
    "           'v New Zealand', 'v Zimbabwe', 'v South Africa', 'v England',\n",
    "           'v Australia', 'v Bermuda', 'v Africa XI', 'v Scotland',\n",
    "           'v Hong Kong', 'v Ireland', 'v Netherlands', 'v U.A.E.',\n",
    "           'v Afghanistan']\n",
    "    values=[0.3,0.6,0.9,1.2,1.5,1.8,2.1,2.4,2.7,3.0,3.3,3.6,3.9,4.2,4.5,4.8,5.1]\n",
    "    a=0\n",
    "    for val in opp:\n",
    "        for i in df1.index:\n",
    "                if(df1['Opposition'][i]==val):\n",
    "                    df1['Opposition'][i]=values[a]\n",
    "        a=a+1\n",
    "    for val in df1.columns:\n",
    "        for i in df1.index:\n",
    "            if(df1[val][i]=='-'):\n",
    "                df1[val][i]=0\n",
    "    for a in df1.index:\n",
    "        x= re.findall(r'\\d+',df1['Runs'][a])\n",
    "        df1['Runs'][a]=int(x[0])\n",
    "    for a in ['Runs','Mins', 'BF', '4s', '6s', 'Pos', 'Dismissal', 'Inns']:\n",
    "        df1[a]= df1[a].astype(int)\n",
    "    df1['SR']= df1['SR'].astype(float)\n",
    "    df1['Opposition']= df1['Opposition'].astype(float)\n",
    "    #Cleaning Done.\n",
    "    \n",
    "    #Calculating Derived Attributes\n",
    "    x= df1.shape\n",
    "    count=x[0]\n",
    "    num_diss=0\n",
    "    cen=0\n",
    "    fifty=0\n",
    "    zero=0\n",
    "    for i in df1.index:\n",
    "        if(df1['Dismissal'][i]==1):\n",
    "            num_diss= num_diss+1\n",
    "        if(df1['Runs'][i]==0):\n",
    "            zero=zero+1\n",
    "        if(df1['Runs'][i]>50 and df1['Runs'][i]<100):\n",
    "            fifty=fifty+1\n",
    "        if(df1['Runs'][i]>100):\n",
    "            cen=cen+1\n",
    "    avg= df1['Runs'].sum(axis=0)/num_diss\n",
    "    sr= df1[\"SR\"].sum()/count\n",
    "    Consis= 0.4262*avg + 0.2566*count + 0.1510*sr + 0.0787*cen +0.0556*fifty-0.0328*zero\n",
    "    if(Consis>0 and Consis<49):\n",
    "        df1['conistency']=1\n",
    "    if(Consis>50 and Consis<74):\n",
    "        df1['conistency']=2\n",
    "    if(Consis>75 and Consis<99):\n",
    "        df1['conistency']=3\n",
    "    if(Consis>100 and Consis<124):\n",
    "        df1['conistency']=4\n",
    "    if(Consis>125):\n",
    "        df1['conistency']=5\n",
    "    return df1\n"
   ]
  },
  {
   "cell_type": "markdown",
   "metadata": {},
   "source": [
    "#### Taking the top 5 Batsmen"
   ]
  },
  {
   "cell_type": "code",
   "execution_count": 151,
   "metadata": {},
   "outputs": [
    {
     "name": "stdout",
     "output_type": "stream",
     "text": [
      "Cleaned Dataframe for MS Dhoni\n",
      "Cleaned Dataframe for Virat Kohli\n",
      "Cleaned Dataframe for Rohit Sharma\n",
      "Cleaned Dataframe for Ajinkya Rahane\n",
      "Cleaned Dataframe for Shikhar Dhawan\n",
      "Cleaned Dataframe for KL Rahul\n",
      "Done\n"
     ]
    }
   ],
   "source": [
    "df_virat= pd.DataFrame()\n",
    "df_Rohit=pd.DataFrame()\n",
    "df_Dhoni=pd.DataFrame()\n",
    "df_Rahane=pd.DataFrame()\n",
    "df_Dhawan=pd.DataFrame()\n",
    "df_Rahul= pd.DataFrame()\n",
    "Batsmen=['MS Dhoni','Virat Kohli', \"Rohit Sharma\",\"Ajinkya Rahane\",'Shikhar Dhawan','KL Rahul']\n",
    "different_df=[df_Dhoni,df_virat,df_Rohit,df_Rahane, df_Dhawan, df_Rahul]\n",
    "for i in range(0,6):\n",
    "    df1= pd.read_csv('c:ICT/'+Batsmen[i]+'.csv')\n",
    "    x=i\n",
    "    df1.insert(0,'Player ID', x)\n",
    "    temp = clean_batsmen(df1, x)\n",
    "    different_df[i]=temp\n",
    "    print('Cleaned Dataframe for '+Batsmen[i])\n",
    "\n",
    "Batsmen_df= pd.concat(different_df, axis=0)\n",
    "print('Done')"
   ]
  },
  {
   "cell_type": "code",
   "execution_count": 152,
   "metadata": {},
   "outputs": [],
   "source": [
    "Batsmen_df= shuffle(Batsmen_df)"
   ]
  },
  {
   "cell_type": "code",
   "execution_count": 153,
   "metadata": {},
   "outputs": [
    {
     "data": {
      "text/html": [
       "<div>\n",
       "<style scoped>\n",
       "    .dataframe tbody tr th:only-of-type {\n",
       "        vertical-align: middle;\n",
       "    }\n",
       "\n",
       "    .dataframe tbody tr th {\n",
       "        vertical-align: top;\n",
       "    }\n",
       "\n",
       "    .dataframe thead th {\n",
       "        text-align: right;\n",
       "    }\n",
       "</style>\n",
       "<table border=\"1\" class=\"dataframe\">\n",
       "  <thead>\n",
       "    <tr style=\"text-align: right;\">\n",
       "      <th></th>\n",
       "      <th>Player ID</th>\n",
       "      <th>Runs</th>\n",
       "      <th>Mins</th>\n",
       "      <th>BF</th>\n",
       "      <th>4s</th>\n",
       "      <th>6s</th>\n",
       "      <th>SR</th>\n",
       "      <th>Pos</th>\n",
       "      <th>Dismissal</th>\n",
       "      <th>Inns</th>\n",
       "      <th>Opposition</th>\n",
       "      <th>Ground</th>\n",
       "      <th>conistency</th>\n",
       "    </tr>\n",
       "  </thead>\n",
       "  <tbody>\n",
       "    <tr>\n",
       "      <th>201</th>\n",
       "      <td>1</td>\n",
       "      <td>113</td>\n",
       "      <td>166</td>\n",
       "      <td>106</td>\n",
       "      <td>9</td>\n",
       "      <td>1</td>\n",
       "      <td>106.60</td>\n",
       "      <td>3</td>\n",
       "      <td>1</td>\n",
       "      <td>1</td>\n",
       "      <td>1.5</td>\n",
       "      <td>Kanpur</td>\n",
       "      <td>4</td>\n",
       "    </tr>\n",
       "    <tr>\n",
       "      <th>138</th>\n",
       "      <td>2</td>\n",
       "      <td>150</td>\n",
       "      <td>215</td>\n",
       "      <td>133</td>\n",
       "      <td>13</td>\n",
       "      <td>6</td>\n",
       "      <td>112.78</td>\n",
       "      <td>1</td>\n",
       "      <td>1</td>\n",
       "      <td>2</td>\n",
       "      <td>2.1</td>\n",
       "      <td>Kanpur</td>\n",
       "      <td>3</td>\n",
       "    </tr>\n",
       "    <tr>\n",
       "      <th>67</th>\n",
       "      <td>3</td>\n",
       "      <td>33</td>\n",
       "      <td>59</td>\n",
       "      <td>34</td>\n",
       "      <td>4</td>\n",
       "      <td>2</td>\n",
       "      <td>97.05</td>\n",
       "      <td>2</td>\n",
       "      <td>1</td>\n",
       "      <td>2</td>\n",
       "      <td>1.5</td>\n",
       "      <td>Dharamsala</td>\n",
       "      <td>1</td>\n",
       "    </tr>\n",
       "    <tr>\n",
       "      <th>186</th>\n",
       "      <td>0</td>\n",
       "      <td>33</td>\n",
       "      <td>41</td>\n",
       "      <td>36</td>\n",
       "      <td>2</td>\n",
       "      <td>0</td>\n",
       "      <td>91.66</td>\n",
       "      <td>7</td>\n",
       "      <td>1</td>\n",
       "      <td>1</td>\n",
       "      <td>2.4</td>\n",
       "      <td>Chester-le-Street</td>\n",
       "      <td>4</td>\n",
       "    </tr>\n",
       "    <tr>\n",
       "      <th>4</th>\n",
       "      <td>2</td>\n",
       "      <td>29</td>\n",
       "      <td>68</td>\n",
       "      <td>43</td>\n",
       "      <td>5</td>\n",
       "      <td>0</td>\n",
       "      <td>67.44</td>\n",
       "      <td>4</td>\n",
       "      <td>1</td>\n",
       "      <td>1</td>\n",
       "      <td>2.7</td>\n",
       "      <td>Brisbane</td>\n",
       "      <td>3</td>\n",
       "    </tr>\n",
       "  </tbody>\n",
       "</table>\n",
       "</div>"
      ],
      "text/plain": [
       "     Player ID  Runs  Mins   BF  4s  6s      SR  Pos  Dismissal  Inns  \\\n",
       "201          1   113   166  106   9   1  106.60    3          1     1   \n",
       "138          2   150   215  133  13   6  112.78    1          1     2   \n",
       "67           3    33    59   34   4   2   97.05    2          1     2   \n",
       "186          0    33    41   36   2   0   91.66    7          1     1   \n",
       "4            2    29    68   43   5   0   67.44    4          1     1   \n",
       "\n",
       "     Opposition             Ground  conistency  \n",
       "201         1.5             Kanpur           4  \n",
       "138         2.1             Kanpur           3  \n",
       "67          1.5         Dharamsala           1  \n",
       "186         2.4  Chester-le-Street           4  \n",
       "4           2.7           Brisbane           3  "
      ]
     },
     "execution_count": 153,
     "metadata": {},
     "output_type": "execute_result"
    }
   ],
   "source": [
    "Batsmen_df.head()"
   ]
  },
  {
   "cell_type": "markdown",
   "metadata": {},
   "source": [
    "## Normalizing Values"
   ]
  },
  {
   "cell_type": "markdown",
   "metadata": {},
   "source": [
    "According to the Research Paper-\n",
    "\n",
    "Both the problems are targeted as classification problems where number of runs and number of\n",
    "wickets are classified in different ranges. We used naïve bayes, random forest, multiclass SVM and decision\n",
    "tree classifiers to generate the prediction models for both the problems. Random Forest classifier was\n",
    "found to be the most accurate for both the problems."
   ]
  },
  {
   "cell_type": "code",
   "execution_count": 154,
   "metadata": {},
   "outputs": [
    {
     "data": {
      "text/html": [
       "<div>\n",
       "<style scoped>\n",
       "    .dataframe tbody tr th:only-of-type {\n",
       "        vertical-align: middle;\n",
       "    }\n",
       "\n",
       "    .dataframe tbody tr th {\n",
       "        vertical-align: top;\n",
       "    }\n",
       "\n",
       "    .dataframe thead th {\n",
       "        text-align: right;\n",
       "    }\n",
       "</style>\n",
       "<table border=\"1\" class=\"dataframe\">\n",
       "  <thead>\n",
       "    <tr style=\"text-align: right;\">\n",
       "      <th></th>\n",
       "      <th>Player ID</th>\n",
       "      <th>Runs</th>\n",
       "      <th>Mins</th>\n",
       "      <th>BF</th>\n",
       "      <th>4s</th>\n",
       "      <th>6s</th>\n",
       "      <th>SR</th>\n",
       "      <th>Pos</th>\n",
       "      <th>Dismissal</th>\n",
       "      <th>Inns</th>\n",
       "      <th>Opposition</th>\n",
       "      <th>Ground</th>\n",
       "      <th>conistency</th>\n",
       "    </tr>\n",
       "  </thead>\n",
       "  <tbody>\n",
       "    <tr>\n",
       "      <th>201</th>\n",
       "      <td>1</td>\n",
       "      <td>113</td>\n",
       "      <td>166</td>\n",
       "      <td>106</td>\n",
       "      <td>9</td>\n",
       "      <td>1</td>\n",
       "      <td>106.60</td>\n",
       "      <td>3</td>\n",
       "      <td>1</td>\n",
       "      <td>1</td>\n",
       "      <td>1.5</td>\n",
       "      <td>Kanpur</td>\n",
       "      <td>4</td>\n",
       "    </tr>\n",
       "    <tr>\n",
       "      <th>138</th>\n",
       "      <td>2</td>\n",
       "      <td>150</td>\n",
       "      <td>215</td>\n",
       "      <td>133</td>\n",
       "      <td>13</td>\n",
       "      <td>6</td>\n",
       "      <td>112.78</td>\n",
       "      <td>1</td>\n",
       "      <td>1</td>\n",
       "      <td>2</td>\n",
       "      <td>2.1</td>\n",
       "      <td>Kanpur</td>\n",
       "      <td>3</td>\n",
       "    </tr>\n",
       "    <tr>\n",
       "      <th>67</th>\n",
       "      <td>3</td>\n",
       "      <td>33</td>\n",
       "      <td>59</td>\n",
       "      <td>34</td>\n",
       "      <td>4</td>\n",
       "      <td>2</td>\n",
       "      <td>97.05</td>\n",
       "      <td>2</td>\n",
       "      <td>1</td>\n",
       "      <td>2</td>\n",
       "      <td>1.5</td>\n",
       "      <td>Dharamsala</td>\n",
       "      <td>1</td>\n",
       "    </tr>\n",
       "    <tr>\n",
       "      <th>186</th>\n",
       "      <td>0</td>\n",
       "      <td>33</td>\n",
       "      <td>41</td>\n",
       "      <td>36</td>\n",
       "      <td>2</td>\n",
       "      <td>0</td>\n",
       "      <td>91.66</td>\n",
       "      <td>7</td>\n",
       "      <td>1</td>\n",
       "      <td>1</td>\n",
       "      <td>2.4</td>\n",
       "      <td>Chester-le-Street</td>\n",
       "      <td>4</td>\n",
       "    </tr>\n",
       "    <tr>\n",
       "      <th>4</th>\n",
       "      <td>2</td>\n",
       "      <td>29</td>\n",
       "      <td>68</td>\n",
       "      <td>43</td>\n",
       "      <td>5</td>\n",
       "      <td>0</td>\n",
       "      <td>67.44</td>\n",
       "      <td>4</td>\n",
       "      <td>1</td>\n",
       "      <td>1</td>\n",
       "      <td>2.7</td>\n",
       "      <td>Brisbane</td>\n",
       "      <td>3</td>\n",
       "    </tr>\n",
       "  </tbody>\n",
       "</table>\n",
       "</div>"
      ],
      "text/plain": [
       "     Player ID  Runs  Mins   BF  4s  6s      SR  Pos  Dismissal  Inns  \\\n",
       "201          1   113   166  106   9   1  106.60    3          1     1   \n",
       "138          2   150   215  133  13   6  112.78    1          1     2   \n",
       "67           3    33    59   34   4   2   97.05    2          1     2   \n",
       "186          0    33    41   36   2   0   91.66    7          1     1   \n",
       "4            2    29    68   43   5   0   67.44    4          1     1   \n",
       "\n",
       "     Opposition             Ground  conistency  \n",
       "201         1.5             Kanpur           4  \n",
       "138         2.1             Kanpur           3  \n",
       "67          1.5         Dharamsala           1  \n",
       "186         2.4  Chester-le-Street           4  \n",
       "4           2.7           Brisbane           3  "
      ]
     },
     "execution_count": 154,
     "metadata": {},
     "output_type": "execute_result"
    }
   ],
   "source": [
    "Batsmen_df.head()"
   ]
  },
  {
   "cell_type": "code",
   "execution_count": 155,
   "metadata": {},
   "outputs": [],
   "source": [
    "Batsmen_df.loc[ Batsmen_df['Runs'] <= 50, 'Runs'] = 1,\n",
    "Batsmen_df.loc[(Batsmen_df['Runs'] > 50) & (Batsmen_df['Runs'] <= 75), 'Runs'] = 2,\n",
    "Batsmen_df.loc[(Batsmen_df['Runs'] > 75) & (Batsmen_df['Runs'] <= 100), 'Runs'] = 3,\n",
    "Batsmen_df.loc[(Batsmen_df['Runs'] > 100) & (Batsmen_df['Runs'] <= 150), 'Runs'] = 4,\n",
    "Batsmen_df.loc[(Batsmen_df['Runs'] > 150) & (Batsmen_df['Runs'] <= 200), 'Runs'] = 5,\n",
    "Batsmen_df.loc[ Batsmen_df['Runs'] > 200, 'Runs'] = 6"
   ]
  },
  {
   "cell_type": "code",
   "execution_count": 156,
   "metadata": {},
   "outputs": [],
   "source": [
    "Batsmen_df.loc[ Batsmen_df['Mins'] <= 50, 'Mins'] = 1,\n",
    "Batsmen_df.loc[(Batsmen_df['Mins'] > 50) & (Batsmen_df['Mins'] <= 75), 'Mins'] = 2,\n",
    "Batsmen_df.loc[(Batsmen_df['Mins'] > 75) & (Batsmen_df['Mins'] <= 100), 'Mins'] = 3,\n",
    "Batsmen_df.loc[(Batsmen_df['Mins'] > 100) & (Batsmen_df['Mins'] <= 150), 'Mins'] = 4,\n",
    "Batsmen_df.loc[(Batsmen_df['Mins'] > 150) & (Batsmen_df['Mins'] <= 200), 'Mins'] = 5,\n",
    "Batsmen_df.loc[ Batsmen_df['Mins'] > 200, 'Mins'] = 6"
   ]
  },
  {
   "cell_type": "code",
   "execution_count": 157,
   "metadata": {},
   "outputs": [],
   "source": [
    "Batsmen_df.loc[ Batsmen_df['BF'] <= 50, 'BF'] = 1,\n",
    "Batsmen_df.loc[(Batsmen_df['BF'] > 50) & (Batsmen_df['BF'] <= 75), 'BF'] = 2,\n",
    "Batsmen_df.loc[(Batsmen_df['BF'] > 75) & (Batsmen_df['BF'] <= 100), 'BF'] = 3,\n",
    "Batsmen_df.loc[(Batsmen_df['BF'] > 100) & (Batsmen_df['BF'] <= 150), 'BF'] = 4,\n",
    "Batsmen_df.loc[(Batsmen_df['BF'] > 150), 'BF'] = 5"
   ]
  },
  {
   "cell_type": "code",
   "execution_count": 158,
   "metadata": {},
   "outputs": [],
   "source": [
    "Batsmen_df.loc[ Batsmen_df['4s'] <= 5, '4s'] = 1,\n",
    "Batsmen_df.loc[(Batsmen_df['4s'] > 5) & (Batsmen_df['4s'] <= 10), '4s'] = 2,\n",
    "Batsmen_df.loc[(Batsmen_df['4s'] > 15) & (Batsmen_df['4s'] <= 20), '4s'] = 3,\n",
    "Batsmen_df.loc[(Batsmen_df['4s'] > 20) & (Batsmen_df['BF'] <= 25), '4s'] = 4,\n",
    "Batsmen_df.loc[(Batsmen_df['4s'] > 25), '4s'] = 5"
   ]
  },
  {
   "cell_type": "code",
   "execution_count": 159,
   "metadata": {},
   "outputs": [],
   "source": [
    "Batsmen_df.loc[ Batsmen_df['6s'] <= 2, '6s'] = 1,\n",
    "Batsmen_df.loc[(Batsmen_df['6s'] > 2) & (Batsmen_df['6s'] <= 4), '6s'] = 2,\n",
    "Batsmen_df.loc[(Batsmen_df['6s'] > 4) & (Batsmen_df['6s'] <= 6), '6s'] = 3,\n",
    "Batsmen_df.loc[(Batsmen_df['6s'] > 6) & (Batsmen_df['6s'] <= 8), '6s'] = 4,\n",
    "Batsmen_df.loc[(Batsmen_df['6s'] > 10), '6s'] = 5"
   ]
  },
  {
   "cell_type": "code",
   "execution_count": 160,
   "metadata": {},
   "outputs": [],
   "source": [
    "Batsmen_df.loc[ Batsmen_df['SR'] <= 50, 'SR'] = 1,\n",
    "Batsmen_df.loc[(Batsmen_df['SR'] > 50) & (Batsmen_df['SR'] <= 75), 'SR'] = 2,\n",
    "Batsmen_df.loc[(Batsmen_df['SR'] > 75) & (Batsmen_df['SR'] <= 100), 'SR'] = 3,\n",
    "Batsmen_df.loc[(Batsmen_df['SR'] > 100) & (Batsmen_df['SR'] <= 150), 'SR'] = 4,\n",
    "Batsmen_df.loc[(Batsmen_df['SR'] > 150) & (Batsmen_df['SR'] <= 200), 'SR'] = 5,\n",
    "Batsmen_df.loc[ Batsmen_df['SR'] > 200, 'SR'] = 6"
   ]
  },
  {
   "cell_type": "code",
   "execution_count": 161,
   "metadata": {},
   "outputs": [
    {
     "data": {
      "text/html": [
       "<div>\n",
       "<style scoped>\n",
       "    .dataframe tbody tr th:only-of-type {\n",
       "        vertical-align: middle;\n",
       "    }\n",
       "\n",
       "    .dataframe tbody tr th {\n",
       "        vertical-align: top;\n",
       "    }\n",
       "\n",
       "    .dataframe thead th {\n",
       "        text-align: right;\n",
       "    }\n",
       "</style>\n",
       "<table border=\"1\" class=\"dataframe\">\n",
       "  <thead>\n",
       "    <tr style=\"text-align: right;\">\n",
       "      <th></th>\n",
       "      <th>Player ID</th>\n",
       "      <th>Runs</th>\n",
       "      <th>Mins</th>\n",
       "      <th>BF</th>\n",
       "      <th>4s</th>\n",
       "      <th>6s</th>\n",
       "      <th>SR</th>\n",
       "      <th>Pos</th>\n",
       "      <th>Dismissal</th>\n",
       "      <th>Inns</th>\n",
       "      <th>Opposition</th>\n",
       "      <th>Ground</th>\n",
       "      <th>conistency</th>\n",
       "    </tr>\n",
       "  </thead>\n",
       "  <tbody>\n",
       "    <tr>\n",
       "      <th>201</th>\n",
       "      <td>1</td>\n",
       "      <td>4</td>\n",
       "      <td>5</td>\n",
       "      <td>4</td>\n",
       "      <td>2</td>\n",
       "      <td>1</td>\n",
       "      <td>4.0</td>\n",
       "      <td>3</td>\n",
       "      <td>1</td>\n",
       "      <td>1</td>\n",
       "      <td>1.5</td>\n",
       "      <td>Kanpur</td>\n",
       "      <td>4</td>\n",
       "    </tr>\n",
       "    <tr>\n",
       "      <th>138</th>\n",
       "      <td>2</td>\n",
       "      <td>4</td>\n",
       "      <td>6</td>\n",
       "      <td>4</td>\n",
       "      <td>13</td>\n",
       "      <td>3</td>\n",
       "      <td>4.0</td>\n",
       "      <td>1</td>\n",
       "      <td>1</td>\n",
       "      <td>2</td>\n",
       "      <td>2.1</td>\n",
       "      <td>Kanpur</td>\n",
       "      <td>3</td>\n",
       "    </tr>\n",
       "    <tr>\n",
       "      <th>67</th>\n",
       "      <td>3</td>\n",
       "      <td>1</td>\n",
       "      <td>2</td>\n",
       "      <td>1</td>\n",
       "      <td>1</td>\n",
       "      <td>1</td>\n",
       "      <td>3.0</td>\n",
       "      <td>2</td>\n",
       "      <td>1</td>\n",
       "      <td>2</td>\n",
       "      <td>1.5</td>\n",
       "      <td>Dharamsala</td>\n",
       "      <td>1</td>\n",
       "    </tr>\n",
       "    <tr>\n",
       "      <th>186</th>\n",
       "      <td>0</td>\n",
       "      <td>1</td>\n",
       "      <td>1</td>\n",
       "      <td>1</td>\n",
       "      <td>1</td>\n",
       "      <td>1</td>\n",
       "      <td>3.0</td>\n",
       "      <td>7</td>\n",
       "      <td>1</td>\n",
       "      <td>1</td>\n",
       "      <td>2.4</td>\n",
       "      <td>Chester-le-Street</td>\n",
       "      <td>4</td>\n",
       "    </tr>\n",
       "    <tr>\n",
       "      <th>4</th>\n",
       "      <td>2</td>\n",
       "      <td>1</td>\n",
       "      <td>2</td>\n",
       "      <td>1</td>\n",
       "      <td>1</td>\n",
       "      <td>1</td>\n",
       "      <td>2.0</td>\n",
       "      <td>4</td>\n",
       "      <td>1</td>\n",
       "      <td>1</td>\n",
       "      <td>2.7</td>\n",
       "      <td>Brisbane</td>\n",
       "      <td>3</td>\n",
       "    </tr>\n",
       "  </tbody>\n",
       "</table>\n",
       "</div>"
      ],
      "text/plain": [
       "     Player ID  Runs  Mins  BF  4s  6s   SR  Pos  Dismissal  Inns  Opposition  \\\n",
       "201          1     4     5   4   2   1  4.0    3          1     1         1.5   \n",
       "138          2     4     6   4  13   3  4.0    1          1     2         2.1   \n",
       "67           3     1     2   1   1   1  3.0    2          1     2         1.5   \n",
       "186          0     1     1   1   1   1  3.0    7          1     1         2.4   \n",
       "4            2     1     2   1   1   1  2.0    4          1     1         2.7   \n",
       "\n",
       "                Ground  conistency  \n",
       "201             Kanpur           4  \n",
       "138             Kanpur           3  \n",
       "67          Dharamsala           1  \n",
       "186  Chester-le-Street           4  \n",
       "4             Brisbane           3  "
      ]
     },
     "execution_count": 161,
     "metadata": {},
     "output_type": "execute_result"
    }
   ],
   "source": [
    "Batsmen_df.head()"
   ]
  },
  {
   "cell_type": "markdown",
   "metadata": {},
   "source": [
    "## Training And Testing Split"
   ]
  },
  {
   "cell_type": "markdown",
   "metadata": {},
   "source": [
    "A 80:20 Training to testing Ratio is considerd"
   ]
  },
  {
   "cell_type": "code",
   "execution_count": 162,
   "metadata": {},
   "outputs": [
    {
     "data": {
      "text/plain": [
       "Index(['Player ID', 'Runs', 'Mins', 'BF', '4s', '6s', 'SR', 'Pos', 'Dismissal',\n",
       "       'Inns', 'Opposition', 'Ground', 'conistency'],\n",
       "      dtype='object')"
      ]
     },
     "execution_count": 162,
     "metadata": {},
     "output_type": "execute_result"
    }
   ],
   "source": [
    "Batsmen_df.columns"
   ]
  },
  {
   "cell_type": "code",
   "execution_count": 164,
   "metadata": {},
   "outputs": [
    {
     "data": {
      "text/plain": [
       "array([[ 2.08625383,  2.19174493,  0.03662798, -0.22730128,  1.19615123,\n",
       "        -0.25720944,  0.45148303, -1.0809563 , -0.21535854,  0.79171284],\n",
       "       [ 2.79556601,  2.19174493,  4.08182236,  3.3665646 ,  1.19615123,\n",
       "        -1.35143944,  0.45148303,  0.92510678,  0.45095879, -0.15796421],\n",
       "       [-0.04168269, -0.69732979, -0.33111696, -0.22730128,  0.31955573,\n",
       "        -0.80432444,  0.45148303,  0.92510678, -0.21535854, -2.05731832],\n",
       "       [-0.75099486, -0.69732979, -0.33111696, -0.22730128,  0.31955573,\n",
       "         1.93125055,  0.45148303, -1.0809563 ,  0.78411746,  0.79171284],\n",
       "       [-0.04168269, -0.69732979, -0.33111696, -0.22730128, -0.55703977,\n",
       "         0.28990556,  0.45148303, -1.0809563 ,  1.11727613, -0.15796421]])"
      ]
     },
     "execution_count": 164,
     "metadata": {},
     "output_type": "execute_result"
    }
   ],
   "source": [
    "X=Batsmen_df[['Mins', 'BF', '4s', '6s', 'SR', 'Pos', 'Dismissal','Inns', 'Opposition','conistency']]\n",
    "y=Batsmen_df['Runs'].values\n",
    "x= preprocessing.StandardScaler().fit(X).transform(X)\n",
    "x[0:5]"
   ]
  },
  {
   "cell_type": "code",
   "execution_count": 165,
   "metadata": {},
   "outputs": [
    {
     "name": "stdout",
     "output_type": "stream",
     "text": [
      "Trainig Data= (803, 10) (803,)\n",
      "Testing data= (201, 10) (201,)\n"
     ]
    }
   ],
   "source": [
    "x_train, x_test, y_train, y_test= train_test_split(x,y, test_size=0.2, random_state=4)\n",
    "print(\"Trainig Data=\", x_train.shape,y_train.shape)\n",
    "print(\"Testing data=\", x_test.shape,y_test.shape)"
   ]
  },
  {
   "cell_type": "markdown",
   "metadata": {},
   "source": [
    "# Testing Algorithms"
   ]
  },
  {
   "cell_type": "markdown",
   "metadata": {},
   "source": [
    "## Random Forest"
   ]
  },
  {
   "cell_type": "code",
   "execution_count": 169,
   "metadata": {},
   "outputs": [],
   "source": [
    "from sklearn.ensemble import RandomForestClassifier\n",
    "from sklearn.model_selection import RandomizedSearchCV\n",
    "from sklearn.metrics import accuracy_score"
   ]
  },
  {
   "cell_type": "code",
   "execution_count": 167,
   "metadata": {},
   "outputs": [
    {
     "name": "stdout",
     "output_type": "stream",
     "text": [
      "Best parameters= {'n_estimators': 400, 'min_samples_split': 10, 'min_samples_leaf': 2, 'max_features': 'auto', 'max_depth': None, 'bootstrap': False}\n",
      "Best Accuracy 0.8878959627329192\n"
     ]
    }
   ],
   "source": [
    "rfc = RandomForestClassifier(n_jobs=-1)\n",
    "n_estimators = [int(x) for x in np.linspace(start = 200, stop = 2000, num = 10)]\n",
    "max_features = ['auto', 'sqrt']\n",
    "max_depth = [int(x) for x in np.linspace(10, 110, num = 11)]\n",
    "max_depth.append(None)\n",
    "min_samples_split = [2, 5, 10]\n",
    "min_samples_leaf = [1, 2, 4]\n",
    "bootstrap = [True, False]\n",
    "\n",
    "param_grid = {'n_estimators': n_estimators,\n",
    "               'max_features': max_features,\n",
    "               'max_depth': max_depth,\n",
    "               'min_samples_split': min_samples_split,\n",
    "               'min_samples_leaf': min_samples_leaf,\n",
    "               'bootstrap': bootstrap}\n",
    "def hypertuning_rscv(est, p_distr, nbr_iter,X,y):\n",
    "    rdmsearch = RandomizedSearchCV(est, param_distributions=p_distr,\n",
    "                                  n_jobs=-1, n_iter=nbr_iter, cv=5)\n",
    "    #CV = Cross-Validation ( here using Stratified KFold CV)\n",
    "    rdmsearch.fit(X,y)\n",
    "    ht_params = rdmsearch.best_params_\n",
    "    ht_score = rdmsearch.best_score_\n",
    "    return ht_params, ht_score\n",
    "\n",
    "rf_parameters, rf_ht_score = hypertuning_rscv(rfc, param_grid,100, x_train, y_train)\n",
    "print(\"Best parameters=\",rf_parameters)\n",
    "print(\"Best Accuracy\", rf_ht_score)"
   ]
  },
  {
   "cell_type": "code",
   "execution_count": 170,
   "metadata": {},
   "outputs": [],
   "source": [
    "rfc = RandomForestClassifier(n_estimators=400, min_samples_split=10, min_samples_leaf=2, max_features='auto', \n",
    "                             max_depth=None, bootstrap=False,n_jobs=-1)\n",
    "rfc.fit(x_train,y_train)\n",
    "y_pred= rfc.predict(x_test)\n",
    "accuracy_rf= accuracy_score(y_pred,y_test)"
   ]
  },
  {
   "cell_type": "code",
   "execution_count": 171,
   "metadata": {},
   "outputs": [
    {
     "data": {
      "text/plain": [
       "0.8805970149253731"
      ]
     },
     "execution_count": 171,
     "metadata": {},
     "output_type": "execute_result"
    }
   ],
   "source": [
    "accuracy_rf"
   ]
  },
  {
   "cell_type": "markdown",
   "metadata": {},
   "source": [
    "# Decision Trees"
   ]
  },
  {
   "cell_type": "code",
   "execution_count": 172,
   "metadata": {},
   "outputs": [],
   "source": [
    "from sklearn.tree import DecisionTreeClassifier"
   ]
  },
  {
   "cell_type": "code",
   "execution_count": 173,
   "metadata": {},
   "outputs": [
    {
     "name": "stdout",
     "output_type": "stream",
     "text": [
      "Best Parameters= {'splitter': 'random', 'min_samples_split': 10, 'min_samples_leaf': 1, 'max_features': None, 'max_depth': 90, 'criterion': 'gini'}\n",
      "Accuracy Score= 0.8754192546583852\n"
     ]
    }
   ],
   "source": [
    "dt= DecisionTreeClassifier()\n",
    "\n",
    "criterion=[\"gini\", \"entropy\"]\n",
    "splitter=[\"best\", \"random\"]\n",
    "max_depth = [int(x) for x in np.linspace(10, 110, num = 11)]\n",
    "max_depth.append(None)\n",
    "min_samples_split = [2,3, 4, 5, 6, 7,8, 9, 10]\n",
    "min_samples_leaf = [1, 2,3, 4]\n",
    "max_features=[\"auto\", \"sqrt\", \"log2\", None]\n",
    "\n",
    "tree_grid= dict(criterion=criterion, splitter=splitter, max_depth=max_depth, min_samples_split=min_samples_split,\n",
    "                min_samples_leaf=min_samples_leaf ,max_features=max_features)\n",
    "\n",
    "rnd_tree=RandomizedSearchCV(dt,tree_grid, n_iter=100, cv=5, random_state=1)\n",
    "model= rnd_tree.fit(x_train,y_train)\n",
    "\n",
    "print(\"Best Parameters=\",model.best_params_)\n",
    "print(\"Accuracy Score=\", model.best_score_)"
   ]
  },
  {
   "cell_type": "code",
   "execution_count": 174,
   "metadata": {},
   "outputs": [],
   "source": [
    "dt= DecisionTreeClassifier( splitter='random', min_samples_split= 10, min_samples_leaf= 1, max_features= None, \n",
    "                             max_depth= 90, criterion='gini')\n",
    "dt.fit(x_train,y_train)\n",
    "y_hat= dt.predict(x_test)\n",
    "\n",
    "accuracy_dt= accuracy_score(y_hat,y_test)"
   ]
  },
  {
   "cell_type": "code",
   "execution_count": 175,
   "metadata": {},
   "outputs": [
    {
     "data": {
      "text/plain": [
       "0.900497512437811"
      ]
     },
     "execution_count": 175,
     "metadata": {},
     "output_type": "execute_result"
    }
   ],
   "source": [
    "accuracy_dt"
   ]
  },
  {
   "cell_type": "code",
   "execution_count": null,
   "metadata": {},
   "outputs": [],
   "source": []
  },
  {
   "cell_type": "code",
   "execution_count": null,
   "metadata": {},
   "outputs": [],
   "source": []
  }
 ],
 "metadata": {
  "kernelspec": {
   "display_name": "Python 3",
   "language": "python",
   "name": "python3"
  },
  "language_info": {
   "codemirror_mode": {
    "name": "ipython",
    "version": 3
   },
   "file_extension": ".py",
   "mimetype": "text/x-python",
   "name": "python",
   "nbconvert_exporter": "python",
   "pygments_lexer": "ipython3",
   "version": "3.7.7"
  }
 },
 "nbformat": 4,
 "nbformat_minor": 4
}
